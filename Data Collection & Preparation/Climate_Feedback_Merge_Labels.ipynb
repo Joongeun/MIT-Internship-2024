{
  "nbformat": 4,
  "nbformat_minor": 0,
  "metadata": {
    "colab": {
      "provenance": [],
      "authorship_tag": "ABX9TyNSBJui1pKMMRwknP0hNOqa",
      "include_colab_link": true
    },
    "kernelspec": {
      "name": "python3",
      "display_name": "Python 3"
    },
    "language_info": {
      "name": "python"
    }
  },
  "cells": [
    {
      "cell_type": "markdown",
      "metadata": {
        "id": "view-in-github",
        "colab_type": "text"
      },
      "source": [
        "<a href=\"https://colab.research.google.com/github/Joongeun/MIT-Internship-2024/blob/main/Climate_Feedback_Merge_Labels.ipynb\" target=\"_parent\"><img src=\"https://colab.research.google.com/assets/colab-badge.svg\" alt=\"Open In Colab\"/></a>"
      ]
    },
    {
      "cell_type": "code",
      "execution_count": null,
      "metadata": {
        "id": "uTcXbL1ho9ju"
      },
      "outputs": [],
      "source": [
        "import pandas as pd\n",
        "import re\n",
        "from pprint import pprint\n",
        "import csv\n",
        "\n",
        "#Merging labels according to Climinator study's 5 labels\n",
        "df = pd.read_csv('climate_feedback.csv')\n",
        "df = df.rename(columns={\"review\": \"source\", \"Unnamed: 3\": \"key_takeaway\", \"Unnamed: 4\": \"review\"})\n",
        "df = df[1:]\n",
        "\n",
        "for ind, i in enumerate(df['label']):\n",
        "  i = i.lower()\n",
        "  if i in [\"accurate\", \"correct\", \"mostly correct\", \"mostly accurate\", \"correct but\"]:\n",
        "    df.loc[ind+1][\"label\"] = \"5\"\n",
        "  elif i in [\"unsupported\"]:\n",
        "    df.loc[ind+1][\"label\"] = \"4\"\n",
        "  elif i in [\"lacks context\", \"flawed reasoning\"]:\n",
        "    df.loc[ind+1][\"label\"] = \"3\"\n",
        "  elif i in [\"imprecise\", \"misleading\"]:\n",
        "    df.loc[ind+1][\"label\"] = \"2\"\n",
        "  elif i in [\"inaccurate\", \"incorrect\"]:\n",
        "    df.loc[ind+1][\"label\"] = \"1\"\n",
        "\n",
        "df.to_csv(\"climate_feedback_merged_prompt1.csv\")\n",
        "\n",
        "#Merging labels according to Science Feedback Methodology Page (https://science.feedback.org/process/) – for prompt 2\n",
        "df = pd.read_csv('climate_feedback.csv')\n",
        "df = df.rename(columns={\"review\": \"source\", \"Unnamed: 3\": \"key_takeaway\", \"Unnamed: 4\": \"review\"})\n",
        "df = df[1:]\n",
        "\n",
        "for ind, i in enumerate(df['label']):\n",
        "  i = i.lower()\n",
        "  if i in [\"accurate\", \"correct\"]:\n",
        "    df.loc[ind+1][\"label\"] = \"5\"\n",
        "  elif i in [\"mostly correct\", \"mostly accurate\", \"correct but\"]:\n",
        "    df.loc[ind+1][\"label\"] = \"4\"\n",
        "  elif i in [\"lacks context\", \"imprecise\", \"partially correct\"]:\n",
        "    df.loc[ind+1][\"label\"] = \"3\"\n",
        "  elif i in [\"unsupported\", \"misleading\"]:\n",
        "    df.loc[ind+1][\"label\"] = \"2\"\n",
        "  elif i in [\"inaccurate\", \"incorrect\", \"flawed reasoning\"]:\n",
        "    df.loc[ind+1][\"label\"] = \"1\"\n",
        "\n",
        "df.to_csv(\"climate_feedback_merged_prompt2.csv\")"
      ]
    }
  ]
}